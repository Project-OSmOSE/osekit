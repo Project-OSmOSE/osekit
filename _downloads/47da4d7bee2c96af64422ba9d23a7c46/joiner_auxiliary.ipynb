{
  "cells": [
    {
      "cell_type": "markdown",
      "metadata": {},
      "source": [
        "\n# Join welch spectra with ERA5 data\n\nThis code will join welch spectra with variables from ERA5 within a pandas dataframe\n"
      ]
    },
    {
      "cell_type": "markdown",
      "metadata": {},
      "source": [
        "## ERA5 downloading\nTo use this code you will first need to download and format some ERA5 data : to do so, please use this [notebook](./download_ERA5.html)_ . For OSmOSE members, this notebook can be directly executing\non our [Google drive team](https://drive.google.com/drive/folders/1QtNjUo1EaGEKSs4BY_E9iRUSWAlw4bOs) \n\n"
      ]
    },
    {
      "cell_type": "markdown",
      "metadata": {},
      "source": [
        "## Codes\n\n"
      ]
    },
    {
      "cell_type": "markdown",
      "metadata": {},
      "source": [
        "Define dataset path and name\n\n"
      ]
    },
    {
      "cell_type": "code",
      "execution_count": null,
      "metadata": {
        "collapsed": false
      },
      "outputs": [],
      "source": [
        "from pathlib import Path\nfrom OSmOSE.Auxiliary import Auxiliary\n\n\npath_osmose_dataset = \"/home6/cazaudo/Bureau/osmose_sample_datasets/\"\ndataset_name = \"SES1\"\ncampaign_name = \"\"\n\ndate_template = \"%Y%m%d_%H%M%S\""
      ]
    },
    {
      "cell_type": "markdown",
      "metadata": {},
      "source": [
        "Select your set of welch spectra through their time resolution and sampling rate\n\n"
      ]
    },
    {
      "cell_type": "code",
      "execution_count": null,
      "metadata": {
        "collapsed": false
      },
      "outputs": [],
      "source": [
        "time_resolution_welch = 300\nsample_rate_welch = 38400"
      ]
    },
    {
      "cell_type": "markdown",
      "metadata": {},
      "source": [
        "Run the Auxiliary class to perform joining\n\n"
      ]
    },
    {
      "cell_type": "code",
      "execution_count": null,
      "metadata": {
        "collapsed": false
      },
      "outputs": [],
      "source": [
        "joiner = Auxiliary(path_osmose_dataset,dataset_name,time_resolution_welch,sample_rate_welch)\n\njoiner.join_welch()\n\njoiner.join_era()\n\njoiner.save_aux_data()"
      ]
    }
  ],
  "metadata": {
    "kernelspec": {
      "display_name": "Python 3",
      "language": "python",
      "name": "python3"
    },
    "language_info": {
      "codemirror_mode": {
        "name": "ipython",
        "version": 3
      },
      "file_extension": ".py",
      "mimetype": "text/x-python",
      "name": "python",
      "nbconvert_exporter": "python",
      "pygments_lexer": "ipython3",
      "version": "3.10.12"
    }
  },
  "nbformat": 4,
  "nbformat_minor": 0
}