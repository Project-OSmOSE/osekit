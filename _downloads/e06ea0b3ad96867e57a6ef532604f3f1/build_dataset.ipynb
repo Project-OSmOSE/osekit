{
  "cells": [
    {
      "cell_type": "markdown",
      "metadata": {},
      "source": [
        "\n# Build a OSmOSE dataset\n\nThis code will format your raw data into a OSmOSE dataset\n"
      ]
    },
    {
      "cell_type": "markdown",
      "metadata": {},
      "source": [
        "## Raw data preparation\nBefore you can build your dataset: \n\n- choose a dataset name (should not contain any special character, including '-'\u207e ; \n- create the folder ``{local_working_dir}/dataset/{dataset_name}`` (or ``{local_working_dir}/dataset/{campaign_name}/{dataset_name}`` in case of a recording campaign); \n- place in this folder your audio data, they can be individual files or contain within multiple sub-folders ; \n- if you have any csv files (either a ``timestamp.csv`` or ``*gps*.csv`` file) should also be placed in this folder.\n\n"
      ]
    },
    {
      "cell_type": "markdown",
      "metadata": {},
      "source": [
        "**About timestamps** \nAll timestamps from your original data (from your audio filenames or from your csv files) MUST follow the same timestamp template which should be given in ``date_template`` \n\n"
      ]
    },
    {
      "cell_type": "markdown",
      "metadata": {},
      "source": [
        "**About auxiliary csv files** \nThe ``*gps*.csv`` file provides the GPS track (ie latitude and longitude coordinates) of a moving hydrophone. This file must contain the term *gps* in its filename. Auxiliary csv files : they must contain headers with the following standardized names : timestamp , depth , lat , lon\n\n"
      ]
    },
    {
      "cell_type": "markdown",
      "metadata": {},
      "source": [
        "## Codes\n\n"
      ]
    },
    {
      "cell_type": "code",
      "execution_count": null,
      "metadata": {
        "collapsed": false
      },
      "outputs": [],
      "source": [
        "# sphinx_gallery_thumbnail_path = '_static/dataset_metadata.png'\n\n\nfrom pathlib import Path\nfrom OSmOSE import Dataset"
      ]
    },
    {
      "cell_type": "markdown",
      "metadata": {},
      "source": [
        "Define dataset path and name\n\n"
      ]
    },
    {
      "cell_type": "code",
      "execution_count": null,
      "metadata": {
        "collapsed": false
      },
      "outputs": [],
      "source": [
        "path_osmose_dataset = \"/home6/cazaudo/Bureau/osmose_sample_datasets/\"\ndataset_name = \"MPSU\"\ncampaign_name = \"\""
      ]
    },
    {
      "cell_type": "markdown",
      "metadata": {},
      "source": [
        "Define mandatory dataset metadata\n\n"
      ]
    },
    {
      "cell_type": "code",
      "execution_count": null,
      "metadata": {
        "collapsed": false
      },
      "outputs": [],
      "source": [
        "date_template = \"%Y%m%d_%H%M%S\" # strftime format, used to build the dataset from scratch (ignore if the dataset is already built)\ndepth = 10\ngps_coordinates = (10,10)\ngps_coordinates"
      ]
    },
    {
      "cell_type": "markdown",
      "metadata": {},
      "source": [
        "Run the method :meth:`OSmOSE.Dataset.Dataset.build` of the class :class:`OSmOSE.Dataset.Dataset`\n\n"
      ]
    },
    {
      "cell_type": "code",
      "execution_count": null,
      "metadata": {
        "collapsed": false
      },
      "outputs": [],
      "source": [
        "dataset = Dataset(dataset_path = Path(path_osmose_dataset, campaign_name, dataset_name), gps_coordinates = gps_coordinates, depth = depth, timezone='+00:00')\ndataset.build(date_template = date_template , force_upload=False, number_test_bad_files=1)"
      ]
    }
  ],
  "metadata": {
    "kernelspec": {
      "display_name": "Python 3",
      "language": "python",
      "name": "python3"
    },
    "language_info": {
      "codemirror_mode": {
        "name": "ipython",
        "version": 3
      },
      "file_extension": ".py",
      "mimetype": "text/x-python",
      "name": "python",
      "nbconvert_exporter": "python",
      "pygments_lexer": "ipython3",
      "version": "3.10.12"
    }
  },
  "nbformat": 4,
  "nbformat_minor": 0
}