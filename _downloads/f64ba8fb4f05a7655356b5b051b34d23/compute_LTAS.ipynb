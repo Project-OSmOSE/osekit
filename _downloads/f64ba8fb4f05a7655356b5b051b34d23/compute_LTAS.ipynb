{
  "cells": [
    {
      "cell_type": "markdown",
      "metadata": {},
      "source": [
        "\n# From spectrograms to LTAS (Long Term Averaged Spectrograms)\n\nThis code will show you how to compute LTAS from audio file-level spectrograms\n"
      ]
    },
    {
      "cell_type": "markdown",
      "metadata": {},
      "source": [
        "## Prerequisites\nYou first need to compute audio file-level spectrograms before computing LTAS ; see the use case `sphx_glr_gallery_tutorials_Spectrogram_generate_spectrogram.py` to do this.\n\n"
      ]
    },
    {
      "cell_type": "markdown",
      "metadata": {},
      "source": [
        "## Codes\n\n"
      ]
    },
    {
      "cell_type": "code",
      "execution_count": null,
      "metadata": {
        "collapsed": false
      },
      "outputs": [],
      "source": [
        "from pathlib import Path\nfrom OSmOSE import Spectrogram\nimport glob"
      ]
    },
    {
      "cell_type": "markdown",
      "metadata": {},
      "source": [
        "Define dataset path and name\n\n"
      ]
    },
    {
      "cell_type": "code",
      "execution_count": null,
      "metadata": {
        "collapsed": false
      },
      "outputs": [],
      "source": [
        "path_osmose_dataset = \"/home6/cazaudo/Bureau/osmose_sample_datasets/\"\ndataset_name = \"MPSU\"\ncampaign_name = \"\""
      ]
    },
    {
      "cell_type": "markdown",
      "metadata": {},
      "source": [
        "Define standard parameters for LTAS computation\n\n"
      ]
    },
    {
      "cell_type": "code",
      "execution_count": null,
      "metadata": {
        "collapsed": false
      },
      "outputs": [],
      "source": [
        "spectrogram = Spectrogram(dataset_path = Path(path_osmose_dataset, campaign_name, dataset_name))\n\ndataset_sr = 50000\ntime_res = 30\ntime_scale = 'all'\n\nspectrogram.build_LTAS(time_resolution=time_res , sample_rate = dataset_sr, time_scale=time_scale)"
      ]
    },
    {
      "cell_type": "markdown",
      "metadata": {},
      "source": [
        "Visualize an example of LTAS \n\n"
      ]
    },
    {
      "cell_type": "code",
      "execution_count": null,
      "metadata": {
        "collapsed": false
      },
      "outputs": [],
      "source": [
        "spectrogram_path = glob.glob(path_osmose_dataset+f'{dataset_name}/processed/LTAS/LTAS_{time_scale}.png')\n\nfrom matplotlib import pyplot as plt\nfrom matplotlib import image as mpimg\n  \nimage = mpimg.imread(spectrogram_path[0])\nplt.imshow(image)\n\nax = plt.gca()\nax.xaxis.set_tick_params(labelbottom=False)\nax.yaxis.set_tick_params(labelleft=False)\nax.set_xticks([])\nax.set_yticks([])\n\nplt.show()"
      ]
    }
  ],
  "metadata": {
    "kernelspec": {
      "display_name": "Python 3",
      "language": "python",
      "name": "python3"
    },
    "language_info": {
      "codemirror_mode": {
        "name": "ipython",
        "version": 3
      },
      "file_extension": ".py",
      "mimetype": "text/x-python",
      "name": "python",
      "nbconvert_exporter": "python",
      "pygments_lexer": "ipython3",
      "version": "3.10.12"
    }
  },
  "nbformat": 4,
  "nbformat_minor": 0
}