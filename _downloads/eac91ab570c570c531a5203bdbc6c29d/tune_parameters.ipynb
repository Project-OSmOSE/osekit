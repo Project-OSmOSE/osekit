{
  "cells": [
    {
      "cell_type": "markdown",
      "metadata": {},
      "source": [
        "\n# Tuning some parameters\n\nThis code will show you how to tune more \n"
      ]
    },
    {
      "cell_type": "code",
      "execution_count": null,
      "metadata": {
        "collapsed": false
      },
      "outputs": [],
      "source": [
        "from pathlib import Path\nfrom OSmOSE import Spectrogram\nimport glob"
      ]
    },
    {
      "cell_type": "markdown",
      "metadata": {},
      "source": [
        "Define dataset path and name\n\n"
      ]
    },
    {
      "cell_type": "code",
      "execution_count": null,
      "metadata": {
        "collapsed": false
      },
      "outputs": [],
      "source": [
        "path_osmose_dataset = \"/home6/cazaudo/Bureau/osmose_sample_datasets/\"\ndataset_name = \"MPSU\"\ncampaign_name = \"\""
      ]
    },
    {
      "cell_type": "markdown",
      "metadata": {},
      "source": [
        "Define standard parameters for spectrogram computation\n\n"
      ]
    },
    {
      "cell_type": "code",
      "execution_count": null,
      "metadata": {
        "collapsed": false
      },
      "outputs": [],
      "source": [
        "spectrogram = Spectrogram(dataset_path = Path(path_osmose_dataset, campaign_name, dataset_name))\n\nspectrogram.dataset_sr = 18000\nspectrogram.spectro_duration = 15\n\nspectrogram.nfft = 1024\nspectrogram.window_size = 1024\nspectrogram.overlap = 80\n\nspectrogram.dynamic_min = -140\nspectrogram.dynamic_max = -12"
      ]
    },
    {
      "cell_type": "markdown",
      "metadata": {},
      "source": [
        "Check size of spectrogram\n\n"
      ]
    },
    {
      "cell_type": "code",
      "execution_count": null,
      "metadata": {
        "collapsed": false
      },
      "outputs": [],
      "source": [
        "spectrogram.check_spectro_size()"
      ]
    },
    {
      "cell_type": "markdown",
      "metadata": {},
      "source": [
        "Initialize everything needed for spectrogram computation ; in particular, this method will segment and/or resample audio files if needed\n\n"
      ]
    },
    {
      "cell_type": "code",
      "execution_count": null,
      "metadata": {
        "collapsed": false
      },
      "outputs": [],
      "source": [
        "spectrogram.initialize()\n\nwav_path = glob.glob(path_osmose_dataset+f'{dataset_name}/data/audio/{spectrogram.spectro_duration}_{spectrogram.dataset_sr}/*wav')\n\nspectrogram.process_all_files(list_wav_to_process=wav_path)"
      ]
    },
    {
      "cell_type": "markdown",
      "metadata": {},
      "source": [
        "Visualize an example of spectrogram \n\n"
      ]
    },
    {
      "cell_type": "code",
      "execution_count": null,
      "metadata": {
        "collapsed": false
      },
      "outputs": [],
      "source": [
        "spectrogram_path = glob.glob(path_osmose_dataset+f'{dataset_name}/processed/spectrogram/{spectrogram.spectro_duration}_{spectrogram.dataset_sr}/{spectrogram.nfft}_{spectrogram.window_size}_{spectrogram.overlap}/image/*png')\n\nfrom matplotlib import pyplot as plt\nfrom matplotlib import image as mpimg\n  \nimage = mpimg.imread(spectrogram_path[0])\nplt.imshow(image, interpolation='nearest', aspect='auto')\n\nax = plt.gca()\nax.xaxis.set_tick_params(labelbottom=False)\nax.yaxis.set_tick_params(labelleft=False)\nax.set_xticks([])\nax.set_yticks([])\n\nplt.show()"
      ]
    }
  ],
  "metadata": {
    "kernelspec": {
      "display_name": "Python 3",
      "language": "python",
      "name": "python3"
    },
    "language_info": {
      "codemirror_mode": {
        "name": "ipython",
        "version": 3
      },
      "file_extension": ".py",
      "mimetype": "text/x-python",
      "name": "python",
      "nbconvert_exporter": "python",
      "pygments_lexer": "ipython3",
      "version": "3.10.12"
    }
  },
  "nbformat": 4,
  "nbformat_minor": 0
}