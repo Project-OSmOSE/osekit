{
  "cells": [
    {
      "cell_type": "markdown",
      "metadata": {},
      "source": [
        "\n# Workflow for wind speed estimation using ERA5 data\n\nThis code builds a workflow to build a parametric model for wind speed estimation based on welch spectra and ERA5 wind speed data\n"
      ]
    },
    {
      "cell_type": "markdown",
      "metadata": {},
      "source": [
        "## Prerequisites\nYou need to have in your OSmOSE dataset the joined dataframe containing welch spectra paths and ERA5 data, saved as a csv file located in `<path_osmose_dataset>/<dataset_name>/processed/auxiliary/aux_data.csv` ; see the use case `sphx_glr_gallery_tutorials_Auxiliary_joiner_auxiliary.py` to do this.\n\n"
      ]
    },
    {
      "cell_type": "markdown",
      "metadata": {},
      "source": [
        "## Codes\n\n"
      ]
    },
    {
      "cell_type": "markdown",
      "metadata": {},
      "source": [
        "Define dataset path and name\n\n"
      ]
    },
    {
      "cell_type": "code",
      "execution_count": null,
      "metadata": {
        "collapsed": false
      },
      "outputs": [],
      "source": [
        "from pathlib import Path\nfrom OSmOSE.Weather import Weather\n\n\npath_osmose_dataset = \"/home6/cazaudo/Bureau/osmose_sample_datasets/\"\ndataset_name = \"SES1\"\ncampaign_name = \"\"\n\ndate_template = \"%Y%m%d_%H%M%S\""
      ]
    },
    {
      "cell_type": "markdown",
      "metadata": {},
      "source": [
        "Select your set of welch spectra through their time resolution and sampling rate\n\n"
      ]
    },
    {
      "cell_type": "code",
      "execution_count": null,
      "metadata": {
        "collapsed": false
      },
      "outputs": [],
      "source": [
        "time_resolution_welch = 300\nsample_rate_welch = 38400"
      ]
    },
    {
      "cell_type": "markdown",
      "metadata": {},
      "source": [
        "Run the Weather class to do the workflow\n\n"
      ]
    },
    {
      "cell_type": "code",
      "execution_count": null,
      "metadata": {
        "collapsed": false
      },
      "outputs": [],
      "source": [
        "appli_weather = Weather(path_osmose_dataset,dataset_name,time_resolution_welch,sample_rate_welch)\n\nappli_weather.save_all_welch()\n\nappli_weather.append_SPL_filtered(freq_min=7500,freq_max=8500)\n\nappli_weather.wind_speed_estimation()"
      ]
    },
    {
      "cell_type": "markdown",
      "metadata": {},
      "source": [
        "Visualize an example of results \n\n"
      ]
    },
    {
      "cell_type": "code",
      "execution_count": null,
      "metadata": {
        "collapsed": false
      },
      "outputs": [],
      "source": [
        "temporal_ecmwf_model = path_osmose_dataset+f'{dataset_name}/appli/weather/temporal_ecmwf_model.png'\n\nfrom matplotlib import pyplot as plt\nfrom matplotlib import image as mpimg\n\nplt.rcParams['figure.dpi'] = 300\nplt.rcParams['savefig.dpi'] = 300\n  \nimage = mpimg.imread(temporal_ecmwf_model)\nplt.imshow(image, interpolation='nearest', aspect='auto')\n\nax = plt.gca()\nax.xaxis.set_tick_params(labelbottom=False)\nax.yaxis.set_tick_params(labelleft=False)\nax.set_xticks([])\nax.set_yticks([])\n\nplt.show()"
      ]
    }
  ],
  "metadata": {
    "kernelspec": {
      "display_name": "Python 3",
      "language": "python",
      "name": "python3"
    },
    "language_info": {
      "codemirror_mode": {
        "name": "ipython",
        "version": 3
      },
      "file_extension": ".py",
      "mimetype": "text/x-python",
      "name": "python",
      "nbconvert_exporter": "python",
      "pygments_lexer": "ipython3",
      "version": "3.10.12"
    }
  },
  "nbformat": 4,
  "nbformat_minor": 0
}