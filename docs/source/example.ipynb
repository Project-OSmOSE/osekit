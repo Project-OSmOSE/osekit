{
 "cells": [
  {
   "attachments": {},
   "cell_type": "markdown",
   "metadata": {},
   "source": [
    "# Generate Spectrograms for a dataset locally"
   ]
  },
  {
   "attachments": {},
   "cell_type": "markdown",
   "metadata": {},
   "source": [
    "## 1. Import the relevant libraries\n",
    "\n",
    "Beside OSmOSE, the use of pathlib is strongly recommended when working with path. While it understand string paths just fine, they are not as portable as pathlib.Path, and less readable."
   ]
  },
  {
   "cell_type": "code",
   "execution_count": null,
   "metadata": {},
   "outputs": [],
   "source": [
    "import os\n",
    "from pathlib import Path\n",
    "from IPython.display import Image\n",
    "\n",
    "import OSmOSE as osm"
   ]
  },
  {
   "attachments": {},
   "cell_type": "markdown",
   "metadata": {},
   "source": [
    "## 2. "
   ]
  }
 ],
 "metadata": {
  "kernelspec": {
   "display_name": "Python 3",
   "language": "python",
   "name": "python3"
  },
  "language_info": {
   "name": "python",
   "version": "3.11.1 (tags/v3.11.1:a7a450f, Dec  6 2022, 19:58:39) [MSC v.1934 64 bit (AMD64)]"
  },
  "orig_nbformat": 4,
  "vscode": {
   "interpreter": {
    "hash": "bce92c0f8f81cdb158a63a7ee25a0fb0b2c55ab9a708ba2832e2eb9c8e94a3d1"
   }
  }
 },
 "nbformat": 4,
 "nbformat_minor": 2
}
