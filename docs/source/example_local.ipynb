{
 "cells": [
  {
   "attachments": {},
   "cell_type": "markdown",
   "metadata": {},
   "source": [
    "# Generate Spectrograms for a dataset locally"
   ]
  },
  {
   "attachments": {},
   "cell_type": "markdown",
   "metadata": {},
   "source": [
    "## 1. Import the relevant libraries\n",
    "\n",
    "Beside OSmOSE, the use of pathlib is strongly recommended when working with path. While it understand string paths just fine, they are not as portable as pathlib.Path, and less readable."
   ]
  },
  {
   "cell_type": "code",
   "execution_count": 1,
   "metadata": {},
   "outputs": [
    {
     "name": "stdout",
     "output_type": "stream",
     "text": [
      "aAAAAAAAAAAAAAH\n"
     ]
    }
   ],
   "source": [
    "import os\n",
    "from pathlib import Path\n",
    "from IPython.display import Image\n",
    "import random\n",
    "\n",
    "import OSmOSE as osm"
   ]
  },
  {
   "attachments": {},
   "cell_type": "markdown",
   "metadata": {},
   "source": [
    "## 2. Prepare the dataset"
   ]
  },
  {
   "attachments": {},
   "cell_type": "markdown",
   "metadata": {},
   "source": [
    "### 2.1 Dataset properties"
   ]
  },
  {
   "attachments": {},
   "cell_type": "markdown",
   "metadata": {},
   "source": [
    "The following cell describes the properties of your data. Refer to the comments to get the meaning of each one. For a more detailed explanation, see the Spectrogram documentation.\n",
    "\n",
    "The `gps_coordinates` is a tuple containing the coordinate of the gathering point in the format (lat, lon)."
   ]
  },
  {
   "cell_type": "code",
   "execution_count": 2,
   "metadata": {},
   "outputs": [
    {
     "name": "stdout",
     "output_type": "stream",
     "text": [
      "Cannot set osmose group on a non-Unix operating system.\n",
      "It seems you are on a non-Unix operating system (probably Windows). The build_dataset() method will not work as intended and permission might be uncorrectly set.\n",
      "Cannot set osmose group on a non-Unix operating system.\n",
      "It seems you are on a non-Unix operating system (probably Windows). The build_dataset() method will not work as intended and permission might be uncorrectly set.\n",
      "No valid processed/adjust_metadata.csv found and no parameters provided. All attributes will be initialized to default values..  \n",
      "\n"
     ]
    }
   ],
   "source": [
    "dataset_path = Path(r\"C:\\Users\\loirebe\\Documents\\dataset\")\n",
    "\n",
    "gps_coordinates = (49,-2)\n",
    "\n",
    "spectrogram = osm.Spectrogram(dataset_path=dataset_path,\n",
    "                            gps_coordinates=gps_coordinates, \n",
    "                            local=True)"
   ]
  },
  {
   "attachments": {},
   "cell_type": "markdown",
   "metadata": {},
   "source": [
    "**Set and change spectrogram parameters**\n",
    "\n",
    "The `analysis_samplerate` is the sample rate at which you want to resample your data before processing it. If you want to keep the same as the initial sample rate, set it to 0.\n",
    "<a id='params'></a>"
   ]
  },
  {
   "cell_type": "code",
   "execution_count": 5,
   "metadata": {},
   "outputs": [],
   "source": [
    "\"\"\"Data parameters\"\"\"\n",
    "spectrogram.data_normalization = \"\" # Can be instrument or zscore\n",
    "# Only if data_normalization is zscore\n",
    "spectrogram.zscore_duration = \"original\"\n",
    "# Only if data_normalization is instrument\n",
    "spectrogram.gain_dB = 0\n",
    "spectrogram.sensitivity = 1\n",
    "spectrogram.peak_voltage = 0\n",
    "spectrogram.spectro_normalization = \"spectrum\" # Can be spectrum or density\n",
    "\n",
    "\"\"\"Spectrogram generation parameters\"\"\"\n",
    "\n",
    "spectrogram.analysis_samplerate = 10\n",
    "spectrogram.spectro_duration = 10 # Duration of the spectrogram in second\n",
    "spectrogram.zoom_level = 0 # Number of zoom levels. Set to 0 to deactivate zoom.\n",
    "\n",
    "spectrogram.nfft = 0 # Number of Fast Fourier Transform\n",
    "spectrogram.window_size = 0 # Size of the used window\n",
    "spectrogram.window_type = \"hamming\" \n",
    "spectrogram.overlap = 0 # The percentage of overlap between two windows\n",
    "hp_filter_min_freq =0\n",
    "\n",
    "\"\"\"Spectrogram display parameters\"\"\"\n",
    "spectrogram.dynamic_max = 0\n",
    "spectrogram.dynamic_min = 0\n",
    "spectrogram.colormap = \"viridis\""
   ]
  },
  {
   "attachments": {},
   "cell_type": "markdown",
   "metadata": {},
   "source": [
    "### 2.2 Technical properties"
   ]
  },
  {
   "attachments": {},
   "cell_type": "markdown",
   "metadata": {},
   "source": [
    "Here you can change the technical aspect of spectrogram generation. \n",
    "- `merge_on_reshape`: If the spectro_duration is different than the original audio duration, new audio files with the desired duration will be created. By default, if a new file overlaps two old ones, they will be fused together, assuming their timestamps corresponds. If you do not want this behavior, set this parameter to False.\n",
    "- `last_file_behavior`: Change how the leftover data is treated after reshaping all files, or every file if merge_on_reshape is False. You can either `pad` with silence until it reaches the desired duration, `truncate` the last file to fit the leftover data duration, or `discard` the data altogether.\n",
    "- `save_matrix`: Numpy matrices take up a considerable amount of space. Like an enormous one. Only save them if you know you need them."
   ]
  },
  {
   "cell_type": "code",
   "execution_count": 6,
   "metadata": {},
   "outputs": [],
   "source": [
    "merge_on_reshape = True\n",
    "last_file_behavior = \"pad\" # or truncate or discard\n",
    "save_matrix = False\n",
    "\n",
    "spectrogram.number_adjustment_spectrogram = 1\n",
    "spectrogram.batch_number = 1\n",
    "force_init = False\n",
    "\n",
    "date_template = \"\""
   ]
  },
  {
   "attachments": {},
   "cell_type": "markdown",
   "metadata": {},
   "source": [
    "### 2.3 Initialize the dataset for spectrogram generation"
   ]
  },
  {
   "attachments": {},
   "cell_type": "markdown",
   "metadata": {},
   "source": [
    "The initialize method will first build your dataset to OSmOSE standard if it is not already prepared, then create the files required to generate spectrograms."
   ]
  },
  {
   "cell_type": "code",
   "execution_count": 7,
   "metadata": {},
   "outputs": [
    {
     "ename": "TypeError",
     "evalue": "Spectrogram.initialize() got an unexpected keyword argument 'merge_on_reshape'",
     "output_type": "error",
     "traceback": [
      "\u001b[1;31m---------------------------------------------------------------------------\u001b[0m",
      "\u001b[1;31mTypeError\u001b[0m                                 Traceback (most recent call last)",
      "Cell \u001b[1;32mIn[7], line 1\u001b[0m\n\u001b[1;32m----> 1\u001b[0m spectrogram\u001b[39m.\u001b[39;49minitialize(date_template\u001b[39m=\u001b[39;49mdate_template,\n\u001b[0;32m      2\u001b[0m                        force_init\u001b[39m=\u001b[39;49mforce_init, \n\u001b[0;32m      3\u001b[0m                        merge_on_reshape\u001b[39m=\u001b[39;49mmerge_on_reshape, \n\u001b[0;32m      4\u001b[0m                        last_file_behavior\u001b[39m=\u001b[39;49mlast_file_behavior)\n",
      "\u001b[1;31mTypeError\u001b[0m: Spectrogram.initialize() got an unexpected keyword argument 'merge_on_reshape'"
     ]
    }
   ],
   "source": [
    "spectrogram.initialize(date_template=date_template,\n",
    "                       force_init=force_init, \n",
    "                       merge_on_reshape=merge_on_reshape, \n",
    "                       last_file_behavior=last_file_behavior)"
   ]
  },
  {
   "attachments": {},
   "cell_type": "markdown",
   "metadata": {},
   "source": [
    "## 3 Generate adjustment spectrograms\n",
    "\n",
    "These spectrograms are meant to evaluate the spectrogram parameters. If you are not satisfied with the result, change the parameters [in this cell](#params) and rerun the adjustment."
   ]
  },
  {
   "cell_type": "code",
   "execution_count": null,
   "metadata": {},
   "outputs": [],
   "source": [
    "files = list(spectrogram.audio_path.glob(\"*.wav\"))\n",
    "    \n",
    "files_to_process = random.sample(files, min(spectrogram.number_adjustment_spectrogram, len(files) -1))\n",
    "\n",
    "for audio_file in files_to_process:\n",
    "    spectrogram.process_file(audio_file=audio_file, adjust = True)\n",
    "\n",
    "spectro_list = os.listdir(spectrogram.path_output_spectrogram.joinpath(\"image\"))\n",
    "for spectro in spectro_list:\n",
    "    display(Image(spectrogram.path_output_spectrogram.joinpath(\"image\", spectro)))"
   ]
  },
  {
   "attachments": {},
   "cell_type": "markdown",
   "metadata": {},
   "source": [
    "## 4 Generate all spectrograms\n",
    "\n",
    "It is recommended to generate the spectrograms in batches to optimize the time. To do that, simply change the spectrogram.batch_number parameters."
   ]
  },
  {
   "cell_type": "code",
   "execution_count": null,
   "metadata": {},
   "outputs": [],
   "source": [
    "spectrogram.batch_number = 1\n",
    "\n",
    "spectrogram.process_all_files(save_matrix=save_matrix)"
   ]
  }
 ],
 "metadata": {
  "kernelspec": {
   "display_name": "osmose-dev",
   "language": "python",
   "name": "python3"
  },
  "language_info": {
   "codemirror_mode": {
    "name": "ipython",
    "version": 3
   },
   "file_extension": ".py",
   "mimetype": "text/x-python",
   "name": "python",
   "nbconvert_exporter": "python",
   "pygments_lexer": "ipython3",
   "version": "3.10.9"
  },
  "orig_nbformat": 4,
  "vscode": {
   "interpreter": {
    "hash": "038fb172a99c9b7ee7474e984b9ff4962ea47b0ef555bcc216ed798a8387f59b"
   }
  }
 },
 "nbformat": 4,
 "nbformat_minor": 2
}
