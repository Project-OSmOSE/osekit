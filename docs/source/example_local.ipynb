{
 "cells": [
  {
   "attachments": {},
   "cell_type": "markdown",
   "metadata": {},
   "source": [
    "# Generate Spectrograms for a dataset locally"
   ]
  },
  {
   "attachments": {},
   "cell_type": "markdown",
   "metadata": {},
   "source": [
    "## 1. Import the relevant libraries\n",
    "\n",
    "Beside OSmOSE, the use of pathlib is strongly recommended when working with path. While it understand string paths just fine, they are not as portable as pathlib.Path, and less readable."
   ]
  },
  {
   "cell_type": "code",
   "execution_count": null,
   "metadata": {},
   "outputs": [],
   "source": [
    "import os\n",
    "from pathlib import Path\n",
    "from IPython.display import Image\n",
    "\n",
    "import OSmOSE as osm"
   ]
  },
  {
   "attachments": {},
   "cell_type": "markdown",
   "metadata": {},
   "source": [
    "## 2. Prepare the dataset"
   ]
  },
  {
   "attachments": {},
   "cell_type": "markdown",
   "metadata": {},
   "source": [
    "### 2.1 Dataset properties"
   ]
  },
  {
   "attachments": {},
   "cell_type": "markdown",
   "metadata": {},
   "source": [
    "The following cell describes the properties of your data. Refer to the comments to get the meaning of each one. For a more detailed explanation, see the Spectrogram documentation.\n",
    "The `analysis_samplerate` is the sample rate at which you want to resample your data before processing it. If you want to keep the same as the initial sample rate, set it to 0.\n",
    "The `gps_coordinates` is a tuple containing the coordinate of the gathering point in the format (lat, lon)."
   ]
  },
  {
   "cell_type": "code",
   "execution_count": null,
   "metadata": {},
   "outputs": [],
   "source": [
    "dataset_path = Path().joinpath(\"my_dataset\")\n",
    "\n",
    "gps_coordinates = ()\n",
    "\n",
    "spectrogram = osm.Spectrogram(dataset_path=dataset_path,\n",
    "                            gps_coordinates=gps_coordinates, \n",
    "                            local=True)"
   ]
  },
  {
   "cell_type": "code",
   "execution_count": null,
   "metadata": {},
   "outputs": [],
   "source": [
    "\"\"\"Data parameters\"\"\"\n",
    "spectrogram.data_normalization = \"\", # Can be instrument or zscore\n",
    "# Only if data_normalization is zscore\n",
    "spectrogram.zscore_duration = \"original\",\n",
    "# Only if data_normalization is instrument\n",
    "spectrogram.gain_dB = 0,\n",
    "spectrogram.sensitivity = 0,\n",
    "spectrogram.peak_voltage = 0,\n",
    "spectrogram.spectro_normalization = \"spectrum\", # Can be spectrum or density\n",
    "\n",
    "\"\"\"Spectrogram generation parameters\"\"\"\n",
    "\n",
    "spectrogram.analysis_samplerate = 0\n",
    "spectrogram.spectro_duration = 0, # Duration of the spectrogram in second\n",
    "spectrogram.zoom_level = 0, # Number of zoom levels. Set to 0 to deactivate zoom.\n",
    "\n",
    "spectrogram.nfft = 0, # Number of Fast Fourier Transform\n",
    "spectrogram.window_size = 0, # Size of the used window\n",
    "spectrogram.window_type = \"hamming\", \n",
    "spectrogram.overlap = 0, # The percentage of overlap between two windows\n",
    "hp_filter_min_freq =0\n",
    "\n",
    "\"\"\"Spectrogram display parameters\"\"\"\n",
    "spectrogram.dynamic_max = 0,\n",
    "spectrogram.dynamic_min = 0,\n",
    "spectrogram.colormap = \"viridis\","
   ]
  },
  {
   "attachments": {},
   "cell_type": "markdown",
   "metadata": {},
   "source": [
    "### 2.2 Technical properties"
   ]
  },
  {
   "attachments": {},
   "cell_type": "markdown",
   "metadata": {},
   "source": [
    "Here you can change the technical aspect of spectrogram generation. \n",
    "- `merge_on_reshape`: If the spectro_duration is different than the original audio duration, new audio files with the desired duration will be created. By default, if a new file overlaps two old ones, they will be fused together, assuming their timestamps corresponds. If you do not want this behavior, set this parameter to False.\n",
    "- `last_file_behavior`: Change how the leftover data is treated after reshaping all files, or every file if merge_on_reshape is False. You can either `pad` with silence until it reaches the desired duration, `truncate` the last file to fit the leftover data duration, or `discard` the data altogether.\n",
    "- `save_matrix`: Numpy matrices take up a considerable amount of space. Like an enormous one. Only save them if you know you need them."
   ]
  },
  {
   "cell_type": "code",
   "execution_count": null,
   "metadata": {},
   "outputs": [],
   "source": [
    "merge_on_reshape = True\n",
    "last_file_behavior = \"pad\" # or truncate or discard\n",
    "save_matrix = False\n",
    "\n",
    "spectrogram.number_adjustment_spectrogram = 1\n",
    "spectrogram.batch_number = 1\n",
    "force_init = False\n",
    "\n",
    "date_template = \"\""
   ]
  },
  {
   "attachments": {},
   "cell_type": "markdown",
   "metadata": {},
   "source": [
    "### 2.3 Initialize the dataset for spectrogram generation"
   ]
  },
  {
   "attachments": {},
   "cell_type": "markdown",
   "metadata": {},
   "source": [
    "The initialize method will first build your dataset to OSmOSE standard if it is not already prepared, then create the files required to generate spectrograms."
   ]
  },
  {
   "cell_type": "code",
   "execution_count": null,
   "metadata": {},
   "outputs": [],
   "source": [
    "spectrogram.initialize(date_template=date_template,\n",
    "                       force_init=force_init, \n",
    "                       merge_on_reshape=merge_on_reshape, \n",
    "                       last_file_behavior=last_file_behavior)"
   ]
  },
  {
   "attachments": {},
   "cell_type": "markdown",
   "metadata": {},
   "source": [
    "## 3 Generate adjustment spectrograms\n",
    "\n",
    "These spectrograms are meant to evaluate the spectrogram parameters."
   ]
  }
 ],
 "metadata": {
  "kernelspec": {
   "display_name": "Python 3",
   "language": "python",
   "name": "python3"
  },
  "language_info": {
   "name": "python",
   "version": "3.11.1 (tags/v3.11.1:a7a450f, Dec  6 2022, 19:58:39) [MSC v.1934 64 bit (AMD64)]"
  },
  "orig_nbformat": 4,
  "vscode": {
   "interpreter": {
    "hash": "bce92c0f8f81cdb158a63a7ee25a0fb0b2c55ab9a708ba2832e2eb9c8e94a3d1"
   }
  }
 },
 "nbformat": 4,
 "nbformat_minor": 2
}
