{
 "cells": [
  {
   "attachments": {},
   "cell_type": "markdown",
   "metadata": {},
   "source": [
    "# Generate Spectrograms for a dataset locally"
   ]
  },
  {
   "attachments": {},
   "cell_type": "markdown",
   "metadata": {},
   "source": [
    "## 1. Import the relevant libraries\n",
    "\n",
    "Beside OSmOSE, the use of pathlib is strongly recommended when working with path. While it understand string paths just fine, they are not as portable as pathlib.Path, and less readable."
   ]
  },
  {
   "cell_type": "code",
   "execution_count": 1,
   "metadata": {},
   "outputs": [],
   "source": [
    "import os\n",
    "from pathlib import Path\n",
    "from IPython.display import Image, display\n",
    "import random\n",
    "\n",
    "import OSmOSE as osm"
   ]
  },
  {
   "attachments": {},
   "cell_type": "markdown",
   "metadata": {},
   "source": [
    "## 2. Prepare the dataset"
   ]
  },
  {
   "attachments": {},
   "cell_type": "markdown",
   "metadata": {},
   "source": [
    "### 2.1 Dataset properties"
   ]
  },
  {
   "attachments": {},
   "cell_type": "markdown",
   "metadata": {},
   "source": [
    "The following cell describes the properties of your data. Refer to the comments to get the meaning of each one. For a more detailed explanation, see the Spectrogram documentation.\n",
    "\n",
    "The `gps_coordinates` is a tuple containing the coordinate of the gathering point in the format (lat, lon)."
   ]
  },
  {
   "cell_type": "code",
   "execution_count": 2,
   "metadata": {},
   "outputs": [
    {
     "name": "stdout",
     "output_type": "stream",
     "text": [
      "Cannot set osmose group on a non-Unix operating system.\n",
      "It seems you are on a non-Unix operating system (probably Windows). The build() method will not work as intended and permission might be incorrectly set.\n"
     ]
    }
   ],
   "source": [
    "dataset_path = Path(r\"C:\\Users\\Rumengol\\Documents\\OSmOSE\\datasets\\sample\")\n",
    "\n",
    "gps_coordinates = (49,-2)\n",
    "\n",
    "spectrogram = osm.Aplose(dataset_path=dataset_path, gps_coordinates=gps_coordinates, local=True)"
   ]
  },
  {
   "attachments": {},
   "cell_type": "markdown",
   "metadata": {},
   "source": [
    "**Set and change spectrogram parameters**\n",
    "\n",
    "The `analysis_samplerate` is the sample rate at which you want to resample your data before processing it. If you want to keep the same as the initial sample rate, set it to 0.\n",
    "<a id='params'></a>"
   ]
  },
  {
   "cell_type": "code",
   "execution_count": 3,
   "metadata": {},
   "outputs": [],
   "source": [
    "\"\"\"Data parameters\"\"\"\n",
    "spectrogram.data_normalization = \"\" # Can be instrument or zscore\n",
    "# Only if data_normalization is zscore\n",
    "spectrogram.zscore_duration = \"original\"\n",
    "# Only if data_normalization is instrument\n",
    "spectrogram.gain_dB = 0\n",
    "spectrogram.sensitivity = 1\n",
    "spectrogram.peak_voltage = 0\n",
    "spectrogram.spectro_normalization = \"spectrum\" # Can be spectrum or density\n",
    "\n",
    "\"\"\"Spectrogram generation parameters\"\"\"\n",
    "\n",
    "spectrogram.analysis_samplerate = 10\n",
    "spectrogram.spectro_duration = 10 # Duration of the spectrogram in second\n",
    "spectrogram.zoom_level = 0 # Number of zoom levels. Set to 0 to deactivate zoom.\n",
    "\n",
    "spectrogram.nfft = 100 # Number of Fast Fourier Transform\n",
    "spectrogram.window_size = 100 # Size of the used window\n",
    "spectrogram.window_type = \"hamming\" \n",
    "spectrogram.overlap = 0 # The percentage of overlap between two windows\n",
    "hp_filter_min_freq =0\n",
    "\n",
    "\"\"\"Spectrogram display parameters\"\"\"\n",
    "spectrogram.dynamic_max = 0\n",
    "spectrogram.dynamic_min = 0\n",
    "spectrogram.colormap = \"viridis\""
   ]
  },
  {
   "attachments": {},
   "cell_type": "markdown",
   "metadata": {},
   "source": [
    "### 2.2 Technical properties"
   ]
  },
  {
   "attachments": {},
   "cell_type": "markdown",
   "metadata": {},
   "source": [
    "Here you can change the technical aspect of spectrogram generation. \n",
    "- `merge_on_reshape`: If the spectro_duration is different than the original audio duration, new audio files with the desired duration will be created. By default, if a new file overlaps two old ones, they will be fused together, assuming their timestamps corresponds. If you do not want this behavior, set this parameter to False.\n",
    "- `last_file_behavior`: Change how the leftover data is treated after reshaping all files, or every file if merge_on_reshape is False. You can either `pad` with silence until it reaches the desired duration, `truncate` the last file to fit the leftover data duration, or `discard` the data altogether.\n",
    "- `save_matrix`: Numpy matrices take up a considerable amount of space. Like an enormous one. Only save them if you know you need them.\n",
    "- `save_image`: Disable image generation, if you only want matrices. You must have one of save_matrix or save_image set to True."
   ]
  },
  {
   "cell_type": "code",
   "execution_count": 4,
   "metadata": {},
   "outputs": [],
   "source": [
    "merge_on_reshape = True\n",
    "last_file_behavior = \"pad\" # or truncate or discard\n",
    "save_matrix = False\n",
    "save_image = True\n",
    "\n",
    "spectrogram.number_adjustment_spectrogram = 1\n",
    "spectrogram.batch_number = 1\n",
    "force_init = False\n",
    "\n",
    "date_template = \"\""
   ]
  },
  {
   "attachments": {},
   "cell_type": "markdown",
   "metadata": {},
   "source": [
    "### 2.3 Initialize the dataset for spectrogram generation"
   ]
  },
  {
   "attachments": {},
   "cell_type": "markdown",
   "metadata": {},
   "source": [
    "The initialize method will first build your dataset to OSmOSE standard if it is not already prepared, then create the files required to generate spectrograms."
   ]
  },
  {
   "cell_type": "code",
   "execution_count": 5,
   "metadata": {},
   "outputs": [],
   "source": [
    "spectrogram.initialize(date_template=date_template,\n",
    "                       force_init=force_init)"
   ]
  },
  {
   "attachments": {},
   "cell_type": "markdown",
   "metadata": {},
   "source": [
    "## 3 Generate adjustment spectrograms\n",
    "\n",
    "These spectrograms are meant to evaluate the spectrogram parameters. If you are not satisfied with the result, change the parameters [in this cell](#params) and rerun the adjustment."
   ]
  },
  {
   "cell_type": "code",
   "execution_count": 6,
   "metadata": {},
   "outputs": [
    {
     "data": {
      "text/plain": [
       "0"
      ]
     },
     "execution_count": 6,
     "metadata": {},
     "output_type": "execute_result"
    }
   ],
   "source": [
    "sum(2**i for i in range(spectrogram.zoom_level))\n"
   ]
  },
  {
   "cell_type": "code",
   "execution_count": 7,
   "metadata": {},
   "outputs": [
    {
     "name": "stdout",
     "output_type": "stream",
     "text": [
      "[] 0 0\n",
      "True\n"
     ]
    },
    {
     "ename": "LibsndfileError",
     "evalue": "Error opening '2022_07_07T21_40_40_000.wav': System error.",
     "output_type": "error",
     "traceback": [
      "\u001b[1;31m---------------------------------------------------------------------------\u001b[0m",
      "\u001b[1;31mLibsndfileError\u001b[0m                           Traceback (most recent call last)",
      "Cell \u001b[1;32mIn[7], line 8\u001b[0m\n\u001b[0;32m      6\u001b[0m     \u001b[38;5;28mprint\u001b[39m(\u001b[38;5;28mlist\u001b[39m(spectrogram\u001b[38;5;241m.\u001b[39mpath_output_spectrogram\u001b[38;5;241m.\u001b[39mglob(\u001b[38;5;124mf\u001b[39m\u001b[38;5;124m\"\u001b[39m\u001b[38;5;132;01m{\u001b[39;00mPath(audio_file)\u001b[38;5;241m.\u001b[39mstem\u001b[38;5;132;01m}\u001b[39;00m\u001b[38;5;124m*\u001b[39m\u001b[38;5;124m\"\u001b[39m)), \u001b[38;5;28mlen\u001b[39m(\u001b[38;5;28mlist\u001b[39m(spectrogram\u001b[38;5;241m.\u001b[39mpath_output_spectrogram\u001b[38;5;241m.\u001b[39mglob(\u001b[38;5;124mf\u001b[39m\u001b[38;5;124m\"\u001b[39m\u001b[38;5;132;01m{\u001b[39;00mPath(audio_file)\u001b[38;5;241m.\u001b[39mstem\u001b[38;5;132;01m}\u001b[39;00m\u001b[38;5;124m*\u001b[39m\u001b[38;5;124m\"\u001b[39m))), \u001b[38;5;28msum\u001b[39m(\u001b[38;5;241m2\u001b[39m\u001b[38;5;241m*\u001b[39m\u001b[38;5;241m*\u001b[39mi \u001b[38;5;28;01mfor\u001b[39;00m i \u001b[38;5;129;01min\u001b[39;00m \u001b[38;5;28mrange\u001b[39m(spectrogram\u001b[38;5;241m.\u001b[39mzoom_level)))\n\u001b[0;32m      7\u001b[0m     \u001b[38;5;28mprint\u001b[39m(\u001b[38;5;28mlen\u001b[39m(\u001b[38;5;28mlist\u001b[39m(spectrogram\u001b[38;5;241m.\u001b[39mpath_output_spectrogram\u001b[38;5;241m.\u001b[39mglob(\u001b[38;5;124mf\u001b[39m\u001b[38;5;124m\"\u001b[39m\u001b[38;5;132;01m{\u001b[39;00mPath(audio_file)\u001b[38;5;241m.\u001b[39mstem\u001b[38;5;132;01m}\u001b[39;00m\u001b[38;5;124m*\u001b[39m\u001b[38;5;124m\"\u001b[39m))) \u001b[38;5;241m==\u001b[39m \u001b[38;5;28msum\u001b[39m(\u001b[38;5;241m2\u001b[39m\u001b[38;5;241m*\u001b[39m\u001b[38;5;241m*\u001b[39mi \u001b[38;5;28;01mfor\u001b[39;00m i \u001b[38;5;129;01min\u001b[39;00m \u001b[38;5;28mrange\u001b[39m(spectrogram\u001b[38;5;241m.\u001b[39mzoom_level)))\n\u001b[1;32m----> 8\u001b[0m     \u001b[43mspectrogram\u001b[49m\u001b[38;5;241;43m.\u001b[39;49m\u001b[43mgenerate_spectrogram\u001b[49m\u001b[43m(\u001b[49m\u001b[43maudio_file\u001b[49m\u001b[38;5;241;43m=\u001b[39;49m\u001b[43maudio_file\u001b[49m\u001b[43m,\u001b[49m\u001b[43m \u001b[49m\u001b[43madjust\u001b[49m\u001b[43m \u001b[49m\u001b[38;5;241;43m=\u001b[39;49m\u001b[43m \u001b[49m\u001b[38;5;28;43;01mTrue\u001b[39;49;00m\u001b[43m,\u001b[49m\u001b[43m \u001b[49m\u001b[43msave_image\u001b[49m\u001b[38;5;241;43m=\u001b[39;49m\u001b[38;5;28;43;01mTrue\u001b[39;49;00m\u001b[43m)\u001b[49m\n\u001b[0;32m     10\u001b[0m spectro_list \u001b[38;5;241m=\u001b[39m os\u001b[38;5;241m.\u001b[39mlistdir(spectrogram\u001b[38;5;241m.\u001b[39mpath_output_spectrogram)\n\u001b[0;32m     11\u001b[0m \u001b[38;5;28;01mfor\u001b[39;00m spectro \u001b[38;5;129;01min\u001b[39;00m spectro_list:\n",
      "File \u001b[1;32m~\\Documents\\OSmOSE\\OSmOSE_package\\src\\OSmOSE\\application\\aplose.py:273\u001b[0m, in \u001b[0;36mAplose.generate_spectrogram\u001b[1;34m(self, audio_file, adjust, save_matrix, save_image, last_file_behavior, merge_files, write_audio_file, clean_adjust_folder, overwrite)\u001b[0m\n\u001b[0;32m    265\u001b[0m lock\u001b[38;5;241m.\u001b[39macquire(blocking\u001b[38;5;241m=\u001b[39m\u001b[38;5;28;01mFalse\u001b[39;00m)\n\u001b[0;32m    267\u001b[0m welchs \u001b[38;5;241m=\u001b[39m \u001b[38;5;28mself\u001b[39m\u001b[38;5;241m.\u001b[39mpreprocess_file(audio_file\u001b[38;5;241m=\u001b[39maudio_file,\n\u001b[0;32m    268\u001b[0m                   adjust\u001b[38;5;241m=\u001b[39madjust,\n\u001b[0;32m    269\u001b[0m                   last_file_behavior\u001b[38;5;241m=\u001b[39mlast_file_behavior,\n\u001b[0;32m    270\u001b[0m                   merge_files\u001b[38;5;241m=\u001b[39mmerge_files,\n\u001b[0;32m    271\u001b[0m                   write_file\u001b[38;5;241m=\u001b[39mwrite_audio_file)\n\u001b[1;32m--> 273\u001b[0m \u001b[38;5;28;01mfor\u001b[39;00m welch \u001b[38;5;129;01min\u001b[39;00m welchs:\n\u001b[0;32m    274\u001b[0m     \u001b[38;5;28mself\u001b[39m\u001b[38;5;241m.\u001b[39mgen_tiles(data\u001b[38;5;241m=\u001b[39mwelch[\u001b[38;5;241m0\u001b[39m], sample_rate\u001b[38;5;241m=\u001b[39m\u001b[38;5;28mself\u001b[39m\u001b[38;5;241m.\u001b[39msr_analysis, output_file\u001b[38;5;241m=\u001b[39mwelch[\u001b[38;5;241m1\u001b[39m])\n\u001b[0;32m    276\u001b[0m lock\u001b[38;5;241m.\u001b[39mrelease()\n",
      "File \u001b[1;32m~\\Documents\\OSmOSE\\OSmOSE_package\\src\\OSmOSE\\features\\welch.py:721\u001b[0m, in \u001b[0;36mWelch.preprocess_file\u001b[1;34m(self, audio_file, last_file_behavior, merge_files, write_file, adjust)\u001b[0m\n\u001b[0;32m    719\u001b[0m \u001b[38;5;66;03m#! If spectro == input audio\u001b[39;00m\n\u001b[0;32m    720\u001b[0m \u001b[38;5;28;01mif\u001b[39;00m metadata[\u001b[38;5;124m\"\u001b[39m\u001b[38;5;124morigin_sr\u001b[39m\u001b[38;5;124m\"\u001b[39m]\u001b[38;5;241m.\u001b[39mvalues[\u001b[38;5;241m0\u001b[39m] \u001b[38;5;241m==\u001b[39m \u001b[38;5;28mself\u001b[39m\u001b[38;5;241m.\u001b[39mdataset_sr \u001b[38;5;129;01mand\u001b[39;00m metadata[\u001b[38;5;124m\"\u001b[39m\u001b[38;5;124maudio_file_origin_duration\u001b[39m\u001b[38;5;124m\"\u001b[39m]\u001b[38;5;241m.\u001b[39mvalues[\u001b[38;5;241m0\u001b[39m] \u001b[38;5;241m==\u001b[39m \u001b[38;5;28mself\u001b[39m\u001b[38;5;241m.\u001b[39mspectro_duration:\n\u001b[1;32m--> 721\u001b[0m     \u001b[38;5;28;01mreturn\u001b[39;00m (\u001b[43msafe_read\u001b[49m\u001b[43m(\u001b[49m\u001b[43maudio_file\u001b[49m\u001b[43m)\u001b[49m, audio_file)\n\u001b[0;32m    723\u001b[0m files_to_load \u001b[38;5;241m=\u001b[39m [\u001b[38;5;28mself\u001b[39m\u001b[38;5;241m.\u001b[39mpath_input_audio_file\u001b[38;5;241m.\u001b[39mjoinpath(audio_file)]\n\u001b[0;32m    725\u001b[0m orig_index \u001b[38;5;241m=\u001b[39m \u001b[38;5;28mint\u001b[39m(orig_timestamp_file\u001b[38;5;241m.\u001b[39mindex[orig_timestamp_file[\u001b[38;5;124m\"\u001b[39m\u001b[38;5;124mfilename\u001b[39m\u001b[38;5;124m\"\u001b[39m] \u001b[38;5;241m==\u001b[39m audio_file][\u001b[38;5;241m0\u001b[39m])\n",
      "File \u001b[1;32m~\\Documents\\OSmOSE\\OSmOSE_package\\src\\OSmOSE\\utils\\core_utils.py:169\u001b[0m, in \u001b[0;36msafe_read\u001b[1;34m(file_path, nan, posinf, neginf)\u001b[0m\n\u001b[0;32m    144\u001b[0m \u001b[38;5;28;01mdef\u001b[39;00m \u001b[38;5;21msafe_read\u001b[39m(\n\u001b[0;32m    145\u001b[0m     file_path: \u001b[38;5;28mstr\u001b[39m, \u001b[38;5;241m*\u001b[39m, nan: \u001b[38;5;28mfloat\u001b[39m \u001b[38;5;241m=\u001b[39m \u001b[38;5;241m0.0\u001b[39m, posinf: \u001b[38;5;28many\u001b[39m \u001b[38;5;241m=\u001b[39m \u001b[38;5;28;01mNone\u001b[39;00m, neginf: \u001b[38;5;28many\u001b[39m \u001b[38;5;241m=\u001b[39m \u001b[38;5;28;01mNone\u001b[39;00m\n\u001b[0;32m    146\u001b[0m ) \u001b[38;5;241m-\u001b[39m\u001b[38;5;241m>\u001b[39m Tuple[np\u001b[38;5;241m.\u001b[39mndarray, \u001b[38;5;28mint\u001b[39m]:\n\u001b[0;32m    147\u001b[0m \u001b[38;5;250m    \u001b[39m\u001b[38;5;124;03m\"\"\"Open a file using Soundfile and clean up the data to be used safely\u001b[39;00m\n\u001b[0;32m    148\u001b[0m \n\u001b[0;32m    149\u001b[0m \u001b[38;5;124;03m    Currently, only checks for `NaN`, `inf` and `-inf` presence. The default behavior is the same as `np.nan_to_num`:\u001b[39;00m\n\u001b[1;32m   (...)\u001b[0m\n\u001b[0;32m    167\u001b[0m \u001b[38;5;124;03m        sample_rate: `int`\u001b[39;00m\n\u001b[0;32m    168\u001b[0m \u001b[38;5;124;03m            The sample rate of the data.\"\"\"\u001b[39;00m\n\u001b[1;32m--> 169\u001b[0m     audio_data, sample_rate \u001b[38;5;241m=\u001b[39m \u001b[43msf\u001b[49m\u001b[38;5;241;43m.\u001b[39;49m\u001b[43mread\u001b[49m\u001b[43m(\u001b[49m\u001b[43mfile_path\u001b[49m\u001b[43m)\u001b[49m\n\u001b[0;32m    171\u001b[0m     nan_nb \u001b[38;5;241m=\u001b[39m \u001b[38;5;28msum\u001b[39m(np\u001b[38;5;241m.\u001b[39misnan(audio_data))\n\u001b[0;32m    172\u001b[0m     \u001b[38;5;28;01mif\u001b[39;00m \u001b[38;5;28mhasattr\u001b[39m(nan_nb, \u001b[38;5;124m\"\u001b[39m\u001b[38;5;124m__iter__\u001b[39m\u001b[38;5;124m\"\u001b[39m):\n",
      "File \u001b[1;32mc:\\Users\\Rumengol\\Documents\\OSmOSE\\osmose\\lib\\site-packages\\soundfile.py:282\u001b[0m, in \u001b[0;36mread\u001b[1;34m(file, frames, start, stop, dtype, always_2d, fill_value, out, samplerate, channels, format, subtype, endian, closefd)\u001b[0m\n\u001b[0;32m    196\u001b[0m \u001b[38;5;28;01mdef\u001b[39;00m \u001b[38;5;21mread\u001b[39m(file, frames\u001b[38;5;241m=\u001b[39m\u001b[38;5;241m-\u001b[39m\u001b[38;5;241m1\u001b[39m, start\u001b[38;5;241m=\u001b[39m\u001b[38;5;241m0\u001b[39m, stop\u001b[38;5;241m=\u001b[39m\u001b[38;5;28;01mNone\u001b[39;00m, dtype\u001b[38;5;241m=\u001b[39m\u001b[38;5;124m'\u001b[39m\u001b[38;5;124mfloat64\u001b[39m\u001b[38;5;124m'\u001b[39m, always_2d\u001b[38;5;241m=\u001b[39m\u001b[38;5;28;01mFalse\u001b[39;00m,\n\u001b[0;32m    197\u001b[0m          fill_value\u001b[38;5;241m=\u001b[39m\u001b[38;5;28;01mNone\u001b[39;00m, out\u001b[38;5;241m=\u001b[39m\u001b[38;5;28;01mNone\u001b[39;00m, samplerate\u001b[38;5;241m=\u001b[39m\u001b[38;5;28;01mNone\u001b[39;00m, channels\u001b[38;5;241m=\u001b[39m\u001b[38;5;28;01mNone\u001b[39;00m,\n\u001b[0;32m    198\u001b[0m          \u001b[38;5;28mformat\u001b[39m\u001b[38;5;241m=\u001b[39m\u001b[38;5;28;01mNone\u001b[39;00m, subtype\u001b[38;5;241m=\u001b[39m\u001b[38;5;28;01mNone\u001b[39;00m, endian\u001b[38;5;241m=\u001b[39m\u001b[38;5;28;01mNone\u001b[39;00m, closefd\u001b[38;5;241m=\u001b[39m\u001b[38;5;28;01mTrue\u001b[39;00m):\n\u001b[0;32m    199\u001b[0m \u001b[38;5;250m    \u001b[39m\u001b[38;5;124;03m\"\"\"Provide audio data from a sound file as NumPy array.\u001b[39;00m\n\u001b[0;32m    200\u001b[0m \n\u001b[0;32m    201\u001b[0m \u001b[38;5;124;03m    By default, the whole file is read from the beginning, but the\u001b[39;00m\n\u001b[1;32m   (...)\u001b[0m\n\u001b[0;32m    280\u001b[0m \n\u001b[0;32m    281\u001b[0m \u001b[38;5;124;03m    \"\"\"\u001b[39;00m\n\u001b[1;32m--> 282\u001b[0m     \u001b[38;5;28;01mwith\u001b[39;00m \u001b[43mSoundFile\u001b[49m\u001b[43m(\u001b[49m\u001b[43mfile\u001b[49m\u001b[43m,\u001b[49m\u001b[43m \u001b[49m\u001b[38;5;124;43m'\u001b[39;49m\u001b[38;5;124;43mr\u001b[39;49m\u001b[38;5;124;43m'\u001b[39;49m\u001b[43m,\u001b[49m\u001b[43m \u001b[49m\u001b[43msamplerate\u001b[49m\u001b[43m,\u001b[49m\u001b[43m \u001b[49m\u001b[43mchannels\u001b[49m\u001b[43m,\u001b[49m\n\u001b[0;32m    283\u001b[0m \u001b[43m                   \u001b[49m\u001b[43msubtype\u001b[49m\u001b[43m,\u001b[49m\u001b[43m \u001b[49m\u001b[43mendian\u001b[49m\u001b[43m,\u001b[49m\u001b[43m \u001b[49m\u001b[38;5;28;43mformat\u001b[39;49m\u001b[43m,\u001b[49m\u001b[43m \u001b[49m\u001b[43mclosefd\u001b[49m\u001b[43m)\u001b[49m \u001b[38;5;28;01mas\u001b[39;00m f:\n\u001b[0;32m    284\u001b[0m         frames \u001b[38;5;241m=\u001b[39m f\u001b[38;5;241m.\u001b[39m_prepare_read(start, stop, frames)\n\u001b[0;32m    285\u001b[0m         data \u001b[38;5;241m=\u001b[39m f\u001b[38;5;241m.\u001b[39mread(frames, dtype, always_2d, fill_value, out)\n",
      "File \u001b[1;32mc:\\Users\\Rumengol\\Documents\\OSmOSE\\osmose\\lib\\site-packages\\soundfile.py:655\u001b[0m, in \u001b[0;36mSoundFile.__init__\u001b[1;34m(self, file, mode, samplerate, channels, subtype, endian, format, closefd)\u001b[0m\n\u001b[0;32m    652\u001b[0m \u001b[38;5;28mself\u001b[39m\u001b[38;5;241m.\u001b[39m_mode \u001b[38;5;241m=\u001b[39m mode\n\u001b[0;32m    653\u001b[0m \u001b[38;5;28mself\u001b[39m\u001b[38;5;241m.\u001b[39m_info \u001b[38;5;241m=\u001b[39m _create_info_struct(file, mode, samplerate, channels,\n\u001b[0;32m    654\u001b[0m                                  \u001b[38;5;28mformat\u001b[39m, subtype, endian)\n\u001b[1;32m--> 655\u001b[0m \u001b[38;5;28mself\u001b[39m\u001b[38;5;241m.\u001b[39m_file \u001b[38;5;241m=\u001b[39m \u001b[38;5;28;43mself\u001b[39;49m\u001b[38;5;241;43m.\u001b[39;49m\u001b[43m_open\u001b[49m\u001b[43m(\u001b[49m\u001b[43mfile\u001b[49m\u001b[43m,\u001b[49m\u001b[43m \u001b[49m\u001b[43mmode_int\u001b[49m\u001b[43m,\u001b[49m\u001b[43m \u001b[49m\u001b[43mclosefd\u001b[49m\u001b[43m)\u001b[49m\n\u001b[0;32m    656\u001b[0m \u001b[38;5;28;01mif\u001b[39;00m \u001b[38;5;28mset\u001b[39m(mode)\u001b[38;5;241m.\u001b[39missuperset(\u001b[38;5;124m'\u001b[39m\u001b[38;5;124mr+\u001b[39m\u001b[38;5;124m'\u001b[39m) \u001b[38;5;129;01mand\u001b[39;00m \u001b[38;5;28mself\u001b[39m\u001b[38;5;241m.\u001b[39mseekable():\n\u001b[0;32m    657\u001b[0m     \u001b[38;5;66;03m# Move write position to 0 (like in Python file objects)\u001b[39;00m\n\u001b[0;32m    658\u001b[0m     \u001b[38;5;28mself\u001b[39m\u001b[38;5;241m.\u001b[39mseek(\u001b[38;5;241m0\u001b[39m)\n",
      "File \u001b[1;32mc:\\Users\\Rumengol\\Documents\\OSmOSE\\osmose\\lib\\site-packages\\soundfile.py:1213\u001b[0m, in \u001b[0;36mSoundFile._open\u001b[1;34m(self, file, mode_int, closefd)\u001b[0m\n\u001b[0;32m   1210\u001b[0m \u001b[38;5;28;01mif\u001b[39;00m file_ptr \u001b[38;5;241m==\u001b[39m _ffi\u001b[38;5;241m.\u001b[39mNULL:\n\u001b[0;32m   1211\u001b[0m     \u001b[38;5;66;03m# get the actual error code\u001b[39;00m\n\u001b[0;32m   1212\u001b[0m     err \u001b[38;5;241m=\u001b[39m _snd\u001b[38;5;241m.\u001b[39msf_error(file_ptr)\n\u001b[1;32m-> 1213\u001b[0m     \u001b[38;5;28;01mraise\u001b[39;00m LibsndfileError(err, prefix\u001b[38;5;241m=\u001b[39m\u001b[38;5;124m\"\u001b[39m\u001b[38;5;124mError opening \u001b[39m\u001b[38;5;132;01m{0!r}\u001b[39;00m\u001b[38;5;124m: \u001b[39m\u001b[38;5;124m\"\u001b[39m\u001b[38;5;241m.\u001b[39mformat(\u001b[38;5;28mself\u001b[39m\u001b[38;5;241m.\u001b[39mname))\n\u001b[0;32m   1214\u001b[0m \u001b[38;5;28;01mif\u001b[39;00m mode_int \u001b[38;5;241m==\u001b[39m _snd\u001b[38;5;241m.\u001b[39mSFM_WRITE:\n\u001b[0;32m   1215\u001b[0m     \u001b[38;5;66;03m# Due to a bug in libsndfile version <= 1.0.25, frames != 0\u001b[39;00m\n\u001b[0;32m   1216\u001b[0m     \u001b[38;5;66;03m# when opening a named pipe in SFM_WRITE mode.\u001b[39;00m\n\u001b[0;32m   1217\u001b[0m     \u001b[38;5;66;03m# See http://github.com/erikd/libsndfile/issues/77.\u001b[39;00m\n\u001b[0;32m   1218\u001b[0m     \u001b[38;5;28mself\u001b[39m\u001b[38;5;241m.\u001b[39m_info\u001b[38;5;241m.\u001b[39mframes \u001b[38;5;241m=\u001b[39m \u001b[38;5;241m0\u001b[39m\n",
      "\u001b[1;31mLibsndfileError\u001b[0m: Error opening '2022_07_07T21_40_40_000.wav': System error."
     ]
    }
   ],
   "source": [
    "files = list(spectrogram.audio_path.glob(\"*.wav\"))\n",
    "    \n",
    "files_to_process = random.sample(files, min(spectrogram.number_adjustment_spectrogram, len(files) -1))\n",
    "\n",
    "for audio_file in files_to_process:\n",
    "    spectrogram.generate_spectrogram(audio_file=audio_file, adjust = True, save_image=True)\n",
    "\n",
    "spectro_list = os.listdir(spectrogram.path_output_spectrogram)\n",
    "for spectro in spectro_list:\n",
    "    display(Image(spectrogram.path_output_spectrogram.joinpath(spectro)))"
   ]
  },
  {
   "attachments": {},
   "cell_type": "markdown",
   "metadata": {},
   "source": [
    "## 4 Generate all spectrograms"
   ]
  },
  {
   "cell_type": "code",
   "execution_count": null,
   "metadata": {},
   "outputs": [],
   "source": [
    "for file in files:\n",
    "    spectrogram.generate_spectrogram(audio_file=file, \n",
    "                                    save_image=save_image, \n",
    "                                    save_matrix=save_matrix,\n",
    "                                    last_file_behavior=last_file_behavior,\n",
    "                                    merge_files=merge_on_reshape\n",
    "                                    )"
   ]
  }
 ],
 "metadata": {
  "kernelspec": {
   "display_name": "osmose-dev",
   "language": "python",
   "name": "python3"
  },
  "language_info": {
   "codemirror_mode": {
    "name": "ipython",
    "version": 3
   },
   "file_extension": ".py",
   "mimetype": "text/x-python",
   "name": "python",
   "nbconvert_exporter": "python",
   "pygments_lexer": "ipython3",
   "version": "3.10.6"
  },
  "orig_nbformat": 4,
  "vscode": {
   "interpreter": {
    "hash": "038fb172a99c9b7ee7474e984b9ff4962ea47b0ef555bcc216ed798a8387f59b"
   }
  }
 },
 "nbformat": 4,
 "nbformat_minor": 2
}
